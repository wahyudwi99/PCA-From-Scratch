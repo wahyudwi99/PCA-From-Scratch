{
 "cells": [
  {
   "cell_type": "markdown",
   "metadata": {},
   "source": [
    "# **Principal Component Analysis**"
   ]
  },
  {
   "cell_type": "markdown",
   "metadata": {},
   "source": [
    "### **1. Load the Dataset**"
   ]
  },
  {
   "cell_type": "markdown",
   "metadata": {},
   "source": [
    "In this experiment, I used breast cancer dataset provided by scikit learn library"
   ]
  },
  {
   "cell_type": "code",
   "execution_count": 24,
   "metadata": {},
   "outputs": [],
   "source": [
    "# Load the important packages\n",
    "import polars as pl\n",
    "import numpy as np\n",
    "import matplotlib.pyplot as plt\n",
    "import sklearn"
   ]
  },
  {
   "cell_type": "code",
   "execution_count": 42,
   "metadata": {},
   "outputs": [
    {
     "data": {
      "text/html": [
       "<div><style>\n",
       ".dataframe > thead > tr,\n",
       ".dataframe > tbody > tr {\n",
       "  text-align: right;\n",
       "  white-space: pre-wrap;\n",
       "}\n",
       "</style>\n",
       "<small>shape: (569, 31)</small><table border=\"1\" class=\"dataframe\"><thead><tr><th>mean radius</th><th>mean texture</th><th>mean perimeter</th><th>mean area</th><th>mean smoothness</th><th>mean compactness</th><th>mean concavity</th><th>mean concave points</th><th>mean symmetry</th><th>mean fractal dimension</th><th>radius error</th><th>texture error</th><th>perimeter error</th><th>area error</th><th>smoothness error</th><th>compactness error</th><th>concavity error</th><th>concave points error</th><th>symmetry error</th><th>fractal dimension error</th><th>worst radius</th><th>worst texture</th><th>worst perimeter</th><th>worst area</th><th>worst smoothness</th><th>worst compactness</th><th>worst concavity</th><th>worst concave points</th><th>worst symmetry</th><th>worst fractal dimension</th><th>target</th></tr><tr><td>f64</td><td>f64</td><td>f64</td><td>f64</td><td>f64</td><td>f64</td><td>f64</td><td>f64</td><td>f64</td><td>f64</td><td>f64</td><td>f64</td><td>f64</td><td>f64</td><td>f64</td><td>f64</td><td>f64</td><td>f64</td><td>f64</td><td>f64</td><td>f64</td><td>f64</td><td>f64</td><td>f64</td><td>f64</td><td>f64</td><td>f64</td><td>f64</td><td>f64</td><td>f64</td><td>i64</td></tr></thead><tbody><tr><td>17.99</td><td>10.38</td><td>122.8</td><td>1001.0</td><td>0.1184</td><td>0.2776</td><td>0.3001</td><td>0.1471</td><td>0.2419</td><td>0.07871</td><td>1.095</td><td>0.9053</td><td>8.589</td><td>153.4</td><td>0.006399</td><td>0.04904</td><td>0.05373</td><td>0.01587</td><td>0.03003</td><td>0.006193</td><td>25.38</td><td>17.33</td><td>184.6</td><td>2019.0</td><td>0.1622</td><td>0.6656</td><td>0.7119</td><td>0.2654</td><td>0.4601</td><td>0.1189</td><td>0</td></tr><tr><td>20.57</td><td>17.77</td><td>132.9</td><td>1326.0</td><td>0.08474</td><td>0.07864</td><td>0.0869</td><td>0.07017</td><td>0.1812</td><td>0.05667</td><td>0.5435</td><td>0.7339</td><td>3.398</td><td>74.08</td><td>0.005225</td><td>0.01308</td><td>0.0186</td><td>0.0134</td><td>0.01389</td><td>0.003532</td><td>24.99</td><td>23.41</td><td>158.8</td><td>1956.0</td><td>0.1238</td><td>0.1866</td><td>0.2416</td><td>0.186</td><td>0.275</td><td>0.08902</td><td>0</td></tr><tr><td>19.69</td><td>21.25</td><td>130.0</td><td>1203.0</td><td>0.1096</td><td>0.1599</td><td>0.1974</td><td>0.1279</td><td>0.2069</td><td>0.05999</td><td>0.7456</td><td>0.7869</td><td>4.585</td><td>94.03</td><td>0.00615</td><td>0.04006</td><td>0.03832</td><td>0.02058</td><td>0.0225</td><td>0.004571</td><td>23.57</td><td>25.53</td><td>152.5</td><td>1709.0</td><td>0.1444</td><td>0.4245</td><td>0.4504</td><td>0.243</td><td>0.3613</td><td>0.08758</td><td>0</td></tr><tr><td>11.42</td><td>20.38</td><td>77.58</td><td>386.1</td><td>0.1425</td><td>0.2839</td><td>0.2414</td><td>0.1052</td><td>0.2597</td><td>0.09744</td><td>0.4956</td><td>1.156</td><td>3.445</td><td>27.23</td><td>0.00911</td><td>0.07458</td><td>0.05661</td><td>0.01867</td><td>0.05963</td><td>0.009208</td><td>14.91</td><td>26.5</td><td>98.87</td><td>567.7</td><td>0.2098</td><td>0.8663</td><td>0.6869</td><td>0.2575</td><td>0.6638</td><td>0.173</td><td>0</td></tr><tr><td>20.29</td><td>14.34</td><td>135.1</td><td>1297.0</td><td>0.1003</td><td>0.1328</td><td>0.198</td><td>0.1043</td><td>0.1809</td><td>0.05883</td><td>0.7572</td><td>0.7813</td><td>5.438</td><td>94.44</td><td>0.01149</td><td>0.02461</td><td>0.05688</td><td>0.01885</td><td>0.01756</td><td>0.005115</td><td>22.54</td><td>16.67</td><td>152.2</td><td>1575.0</td><td>0.1374</td><td>0.205</td><td>0.4</td><td>0.1625</td><td>0.2364</td><td>0.07678</td><td>0</td></tr><tr><td>&hellip;</td><td>&hellip;</td><td>&hellip;</td><td>&hellip;</td><td>&hellip;</td><td>&hellip;</td><td>&hellip;</td><td>&hellip;</td><td>&hellip;</td><td>&hellip;</td><td>&hellip;</td><td>&hellip;</td><td>&hellip;</td><td>&hellip;</td><td>&hellip;</td><td>&hellip;</td><td>&hellip;</td><td>&hellip;</td><td>&hellip;</td><td>&hellip;</td><td>&hellip;</td><td>&hellip;</td><td>&hellip;</td><td>&hellip;</td><td>&hellip;</td><td>&hellip;</td><td>&hellip;</td><td>&hellip;</td><td>&hellip;</td><td>&hellip;</td><td>&hellip;</td></tr><tr><td>21.56</td><td>22.39</td><td>142.0</td><td>1479.0</td><td>0.111</td><td>0.1159</td><td>0.2439</td><td>0.1389</td><td>0.1726</td><td>0.05623</td><td>1.176</td><td>1.256</td><td>7.673</td><td>158.7</td><td>0.0103</td><td>0.02891</td><td>0.05198</td><td>0.02454</td><td>0.01114</td><td>0.004239</td><td>25.45</td><td>26.4</td><td>166.1</td><td>2027.0</td><td>0.141</td><td>0.2113</td><td>0.4107</td><td>0.2216</td><td>0.206</td><td>0.07115</td><td>0</td></tr><tr><td>20.13</td><td>28.25</td><td>131.2</td><td>1261.0</td><td>0.0978</td><td>0.1034</td><td>0.144</td><td>0.09791</td><td>0.1752</td><td>0.05533</td><td>0.7655</td><td>2.463</td><td>5.203</td><td>99.04</td><td>0.005769</td><td>0.02423</td><td>0.0395</td><td>0.01678</td><td>0.01898</td><td>0.002498</td><td>23.69</td><td>38.25</td><td>155.0</td><td>1731.0</td><td>0.1166</td><td>0.1922</td><td>0.3215</td><td>0.1628</td><td>0.2572</td><td>0.06637</td><td>0</td></tr><tr><td>16.6</td><td>28.08</td><td>108.3</td><td>858.1</td><td>0.08455</td><td>0.1023</td><td>0.09251</td><td>0.05302</td><td>0.159</td><td>0.05648</td><td>0.4564</td><td>1.075</td><td>3.425</td><td>48.55</td><td>0.005903</td><td>0.03731</td><td>0.0473</td><td>0.01557</td><td>0.01318</td><td>0.003892</td><td>18.98</td><td>34.12</td><td>126.7</td><td>1124.0</td><td>0.1139</td><td>0.3094</td><td>0.3403</td><td>0.1418</td><td>0.2218</td><td>0.0782</td><td>0</td></tr><tr><td>20.6</td><td>29.33</td><td>140.1</td><td>1265.0</td><td>0.1178</td><td>0.277</td><td>0.3514</td><td>0.152</td><td>0.2397</td><td>0.07016</td><td>0.726</td><td>1.595</td><td>5.772</td><td>86.22</td><td>0.006522</td><td>0.06158</td><td>0.07117</td><td>0.01664</td><td>0.02324</td><td>0.006185</td><td>25.74</td><td>39.42</td><td>184.6</td><td>1821.0</td><td>0.165</td><td>0.8681</td><td>0.9387</td><td>0.265</td><td>0.4087</td><td>0.124</td><td>0</td></tr><tr><td>7.76</td><td>24.54</td><td>47.92</td><td>181.0</td><td>0.05263</td><td>0.04362</td><td>0.0</td><td>0.0</td><td>0.1587</td><td>0.05884</td><td>0.3857</td><td>1.428</td><td>2.548</td><td>19.15</td><td>0.007189</td><td>0.00466</td><td>0.0</td><td>0.0</td><td>0.02676</td><td>0.002783</td><td>9.456</td><td>30.37</td><td>59.16</td><td>268.6</td><td>0.08996</td><td>0.06444</td><td>0.0</td><td>0.0</td><td>0.2871</td><td>0.07039</td><td>1</td></tr></tbody></table></div>"
      ],
      "text/plain": [
       "shape: (569, 31)\n",
       "┌────────┬─────────┬────────────────┬───────────┬───┬─────────┬──────────┬────────────────┬────────┐\n",
       "│ mean   ┆ mean    ┆ mean perimeter ┆ mean area ┆ … ┆ worst   ┆ worst    ┆ worst fractal  ┆ target │\n",
       "│ radius ┆ texture ┆ ---            ┆ ---       ┆   ┆ concave ┆ symmetry ┆ dimension      ┆ ---    │\n",
       "│ ---    ┆ ---     ┆ f64            ┆ f64       ┆   ┆ points  ┆ ---      ┆ ---            ┆ i64    │\n",
       "│ f64    ┆ f64     ┆                ┆           ┆   ┆ ---     ┆ f64      ┆ f64            ┆        │\n",
       "│        ┆         ┆                ┆           ┆   ┆ f64     ┆          ┆                ┆        │\n",
       "╞════════╪═════════╪════════════════╪═══════════╪═══╪═════════╪══════════╪════════════════╪════════╡\n",
       "│ 17.99  ┆ 10.38   ┆ 122.8          ┆ 1001.0    ┆ … ┆ 0.2654  ┆ 0.4601   ┆ 0.1189         ┆ 0      │\n",
       "│ 20.57  ┆ 17.77   ┆ 132.9          ┆ 1326.0    ┆ … ┆ 0.186   ┆ 0.275    ┆ 0.08902        ┆ 0      │\n",
       "│ 19.69  ┆ 21.25   ┆ 130.0          ┆ 1203.0    ┆ … ┆ 0.243   ┆ 0.3613   ┆ 0.08758        ┆ 0      │\n",
       "│ 11.42  ┆ 20.38   ┆ 77.58          ┆ 386.1     ┆ … ┆ 0.2575  ┆ 0.6638   ┆ 0.173          ┆ 0      │\n",
       "│ 20.29  ┆ 14.34   ┆ 135.1          ┆ 1297.0    ┆ … ┆ 0.1625  ┆ 0.2364   ┆ 0.07678        ┆ 0      │\n",
       "│ …      ┆ …       ┆ …              ┆ …         ┆ … ┆ …       ┆ …        ┆ …              ┆ …      │\n",
       "│ 21.56  ┆ 22.39   ┆ 142.0          ┆ 1479.0    ┆ … ┆ 0.2216  ┆ 0.206    ┆ 0.07115        ┆ 0      │\n",
       "│ 20.13  ┆ 28.25   ┆ 131.2          ┆ 1261.0    ┆ … ┆ 0.1628  ┆ 0.2572   ┆ 0.06637        ┆ 0      │\n",
       "│ 16.6   ┆ 28.08   ┆ 108.3          ┆ 858.1     ┆ … ┆ 0.1418  ┆ 0.2218   ┆ 0.0782         ┆ 0      │\n",
       "│ 20.6   ┆ 29.33   ┆ 140.1          ┆ 1265.0    ┆ … ┆ 0.265   ┆ 0.4087   ┆ 0.124          ┆ 0      │\n",
       "│ 7.76   ┆ 24.54   ┆ 47.92          ┆ 181.0     ┆ … ┆ 0.0     ┆ 0.2871   ┆ 0.07039        ┆ 1      │\n",
       "└────────┴─────────┴────────────────┴───────────┴───┴─────────┴──────────┴────────────────┴────────┘"
      ]
     },
     "execution_count": 42,
     "metadata": {},
     "output_type": "execute_result"
    }
   ],
   "source": [
    "# Load dataset from scikit learn\n",
    "df_cancer = sklearn.datasets.load_breast_cancer(as_frame=True)\n",
    "# Convert independent features and dependent feature to polars\n",
    "independent_features = pl.from_pandas(df_cancer[\"data\"])\n",
    "dependent_feature = pl.DataFrame({\"target\": df_cancer[\"target\"].values})\n",
    "# Concat dataframes\n",
    "df_cancer = pl.concat([independent_features, dependent_feature], how='horizontal')\n",
    "df_cancer"
   ]
  },
  {
   "cell_type": "markdown",
   "metadata": {},
   "source": [
    "In the dataset above, we already have the data with 569 rows and 31 columns. We would like to reduce the dimension of this data as low as possible using PCA."
   ]
  },
  {
   "cell_type": "markdown",
   "metadata": {},
   "source": [
    "### **2. PCA Processing**"
   ]
  },
  {
   "cell_type": "markdown",
   "metadata": {},
   "source": [
    "#### **2.1 Calculate Covariance Matrix**"
   ]
  },
  {
   "cell_type": "markdown",
   "metadata": {},
   "source": [
    "When dealing with PCA, we need to first calculate covariance matrix in order to get eigenvalues and eigenvectors."
   ]
  },
  {
   "cell_type": "code",
   "execution_count": 54,
   "metadata": {},
   "outputs": [
    {
     "data": {
      "text/plain": [
       "array([[1.799e+01, 1.038e+01, 1.228e+02, ..., 2.654e-01, 4.601e-01,\n",
       "        1.189e-01],\n",
       "       [2.057e+01, 1.777e+01, 1.329e+02, ..., 1.860e-01, 2.750e-01,\n",
       "        8.902e-02],\n",
       "       [1.969e+01, 2.125e+01, 1.300e+02, ..., 2.430e-01, 3.613e-01,\n",
       "        8.758e-02],\n",
       "       ...,\n",
       "       [1.660e+01, 2.808e+01, 1.083e+02, ..., 1.418e-01, 2.218e-01,\n",
       "        7.820e-02],\n",
       "       [2.060e+01, 2.933e+01, 1.401e+02, ..., 2.650e-01, 4.087e-01,\n",
       "        1.240e-01],\n",
       "       [7.760e+00, 2.454e+01, 4.792e+01, ..., 0.000e+00, 2.871e-01,\n",
       "        7.039e-02]])"
      ]
     },
     "execution_count": 54,
     "metadata": {},
     "output_type": "execute_result"
    }
   ],
   "source": [
    "independent_features.to_numpy()"
   ]
  },
  {
   "cell_type": "code",
   "execution_count": null,
   "metadata": {},
   "outputs": [],
   "source": []
  }
 ],
 "metadata": {
  "kernelspec": {
   "display_name": "personal_env",
   "language": "python",
   "name": "personal_env"
  },
  "language_info": {
   "codemirror_mode": {
    "name": "ipython",
    "version": 3
   },
   "file_extension": ".py",
   "mimetype": "text/x-python",
   "name": "python",
   "nbconvert_exporter": "python",
   "pygments_lexer": "ipython3",
   "version": "3.9.21"
  }
 },
 "nbformat": 4,
 "nbformat_minor": 2
}
